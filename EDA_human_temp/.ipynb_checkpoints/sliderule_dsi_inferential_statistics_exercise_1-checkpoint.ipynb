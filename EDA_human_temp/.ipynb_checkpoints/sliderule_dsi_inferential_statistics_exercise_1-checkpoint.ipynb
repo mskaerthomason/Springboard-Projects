{
 "cells": [
  {
   "cell_type": "markdown",
   "metadata": {},
   "source": [
    "# What is the True Normal Human Body Temperature? \n",
    "\n",
    "#### Background\n",
    "\n",
    "The mean normal body temperature was held to be 37$^{\\circ}$C or 98.6$^{\\circ}$F for more than 120 years since it was first conceptualized and reported by Carl Wunderlich in a famous 1868 book. But, is this value statistically correct?"
   ]
  },
  {
   "cell_type": "markdown",
   "metadata": {},
   "source": [
    "<h3>Exercises</h3>\n",
    "\n",
    "<p>In this exercise, you will analyze a dataset of human body temperatures and employ the concepts of hypothesis testing, confidence intervals, and statistical significance.</p>\n",
    "\n",
    "<p>Answer the following questions <b>in this notebook below and submit to your Github account</b>.</p> \n",
    "\n",
    "\n",
    "You can include written notes in notebook cells using Markdown: \n",
    "   - In the control panel at the top, choose Cell > Cell Type > Markdown\n",
    "   - Markdown syntax: http://nestacms.com/docs/creating-content/markdown-cheat-sheet\n",
    "\n",
    "#### Resources\n",
    "\n",
    "+ Information and data sources: http://www.amstat.org/publications/jse/datasets/normtemp.txt, http://www.amstat.org/publications/jse/jse_data_archive.htm\n",
    "+ Markdown syntax: http://nestacms.com/docs/creating-content/markdown-cheat-sheet\n",
    "\n",
    "****"
   ]
  },
  {
   "cell_type": "code",
   "execution_count": 58,
   "metadata": {},
   "outputs": [
    {
     "name": "stdout",
     "output_type": "stream",
     "text": [
      "<class 'pandas.core.frame.DataFrame'>\n",
      "RangeIndex: 130 entries, 0 to 129\n",
      "Data columns (total 3 columns):\n",
      "temperature    130 non-null float64\n",
      "gender         130 non-null object\n",
      "heart_rate     130 non-null float64\n",
      "dtypes: float64(2), object(1)\n",
      "memory usage: 3.1+ KB\n"
     ]
    },
    {
     "data": {
      "text/html": [
       "<div>\n",
       "<style>\n",
       "    .dataframe thead tr:only-child th {\n",
       "        text-align: right;\n",
       "    }\n",
       "\n",
       "    .dataframe thead th {\n",
       "        text-align: left;\n",
       "    }\n",
       "\n",
       "    .dataframe tbody tr th {\n",
       "        vertical-align: top;\n",
       "    }\n",
       "</style>\n",
       "<table border=\"1\" class=\"dataframe\">\n",
       "  <thead>\n",
       "    <tr style=\"text-align: right;\">\n",
       "      <th></th>\n",
       "      <th>temperature</th>\n",
       "      <th>gender</th>\n",
       "      <th>heart_rate</th>\n",
       "    </tr>\n",
       "  </thead>\n",
       "  <tbody>\n",
       "    <tr>\n",
       "      <th>0</th>\n",
       "      <td>99.3</td>\n",
       "      <td>F</td>\n",
       "      <td>68.0</td>\n",
       "    </tr>\n",
       "    <tr>\n",
       "      <th>1</th>\n",
       "      <td>98.4</td>\n",
       "      <td>F</td>\n",
       "      <td>81.0</td>\n",
       "    </tr>\n",
       "    <tr>\n",
       "      <th>2</th>\n",
       "      <td>97.8</td>\n",
       "      <td>M</td>\n",
       "      <td>73.0</td>\n",
       "    </tr>\n",
       "    <tr>\n",
       "      <th>3</th>\n",
       "      <td>99.2</td>\n",
       "      <td>F</td>\n",
       "      <td>66.0</td>\n",
       "    </tr>\n",
       "    <tr>\n",
       "      <th>4</th>\n",
       "      <td>98.0</td>\n",
       "      <td>F</td>\n",
       "      <td>73.0</td>\n",
       "    </tr>\n",
       "  </tbody>\n",
       "</table>\n",
       "</div>"
      ],
      "text/plain": [
       "   temperature gender  heart_rate\n",
       "0         99.3      F        68.0\n",
       "1         98.4      F        81.0\n",
       "2         97.8      M        73.0\n",
       "3         99.2      F        66.0\n",
       "4         98.0      F        73.0"
      ]
     },
     "execution_count": 58,
     "metadata": {},
     "output_type": "execute_result"
    }
   ],
   "source": [
    "import pandas as pd\n",
    "import matplotlib.pyplot as plt\n",
    "from scipy import stats\n",
    "import numpy as np\n",
    "%matplotlib  inline\n",
    "\n",
    "#Compute ECDF for a one-dimensional array of measurements.\n",
    "def ecdf(data):\n",
    "    # Number of data points, n\n",
    "    n = len(data)\n",
    "    # x-data for the ECDF, x\n",
    "    x = np.sort(data)\n",
    "    # y-data for the ECDF, y\n",
    "    y = np.arange(1, n+1) / n\n",
    "    return x, y\n",
    "\n",
    "df = pd.read_csv('data/human_body_temperature.csv')\n",
    "df.info()\n",
    "df.head()"
   ]
  },
  {
   "cell_type": "markdown",
   "metadata": {},
   "source": [
    "#### Question 1\n",
    "Is the distribution of body temperatures normal? \n",
    "    <li> Although this is not a requirement for CLT to hold (read CLT carefully), it gives us some peace of mind that the population may also be normally distributed if we assume that this sample is representative of the population."
   ]
  },
  {
   "cell_type": "markdown",
   "metadata": {},
   "source": [
    "CLT= Central Limit Theorem"
   ]
  },
  {
   "cell_type": "code",
   "execution_count": 83,
   "metadata": {},
   "outputs": [
    {
     "name": "stdout",
     "output_type": "stream",
     "text": [
      "n is 130\n",
      "bin numbers are 11\n"
     ]
    },
    {
     "data": {
      "text/plain": [
       "<matplotlib.text.Text at 0x11c9073c8>"
      ]
     },
     "execution_count": 83,
     "metadata": {},
     "output_type": "execute_result"
    },
    {
     "data": {
      "image/png": "[encoded data removed]",
      "text/plain": [
       "<matplotlib.figure.Figure at 0x11ca050b8>"
      ]
     },
     "metadata": {},
     "output_type": "display_data"
    }
   ],
   "source": [
    "n=len(df.temperature)\n",
    "bin_num = int(np.sqrt(n)) # is this the best way to pick bin number?\n",
    "print('n is ' + str(n))\n",
    "print('bin numbers are ' + str(bin_num))\n",
    "df.temperature.plot(kind='hist', bins=bin_num, normed=True, title='Temperature Histogram')\n",
    "plt.xlabel('Temp (Degrees F)')\n",
    "plt.ylabel('PDF')"
   ]
  },
  {
   "cell_type": "markdown",
   "metadata": {},
   "source": [
    "These data look approximately normal, but it will be better compare using an ECDF comparisons and a test to determine if these data are likely to come from a population of data that is normally distributed.  "
   ]
  },
  {
   "cell_type": "code",
   "execution_count": 65,
   "metadata": {},
   "outputs": [
    {
     "data": {
      "image/png": "[encoded data removed]",
      "text/plain": [
       "<matplotlib.figure.Figure at 0x11c5f1908>"
      ]
     },
     "metadata": {},
     "output_type": "display_data"
    }
   ],
   "source": [
    "mean = np.mean(df['temperature']) \n",
    "std = np.std(df['temperature']) \n",
    "#collect random samples of a population with the same mean and SD as the data given\n",
    "samples = np.random.normal(mean,std,size=10000 )\n",
    "#compute ECDF for given data, and sampled data\n",
    "x,y= ecdf(df['temperature'])\n",
    "x_sample, y_sample = ecdf(samples)\n",
    "\n",
    "plot = plt.plot (x, y, marker = '.', linestyle = 'none')\n",
    "plot = plt.plot (x_sample, y_sample)\n",
    "\n",
    "# Make everything look nicer\n",
    "plot = plt.margins(0.02)\n",
    "plot = plt.xlabel('Temperature of humans')\n",
    "plot = plt.ylabel('ECDF')\n",
    "\n",
    "# Display the plot\n",
    "plt.show()"
   ]
  },
  {
   "cell_type": "code",
   "execution_count": 41,
   "metadata": {},
   "outputs": [
    {
     "data": {
      "text/plain": [
       "NormaltestResult(statistic=2.7038014333192031, pvalue=0.2587479863488254)"
      ]
     },
     "execution_count": 41,
     "metadata": {},
     "output_type": "execute_result"
    }
   ],
   "source": [
    "stats.normaltest(df.temperature)"
   ]
  },
  {
   "cell_type": "markdown",
   "metadata": {},
   "source": [
    "The ECDF comparison shows a simulated sample using the same mean and SD as the given data overlays very closely with the ECDF of the given data.  This is a good indicator of a normal distribution.  \n",
    "The null hypothesis for the normality test is that the data come from a normal distribution.  Since p>0.05, we cannot reject the null, i.e. the data can be assumed to be normally distributed. "
   ]
  },
  {
   "cell_type": "markdown",
   "metadata": {},
   "source": [
    " #### Question 2\n",
    " Is the sample size large? Are the observations independent?\n",
    "    <li> Remember that this is a condition for the CLT, and hence the statistical tests we are using, to apply."
   ]
  },
  {
   "cell_type": "markdown",
   "metadata": {},
   "source": [
    "The df.info() performed above indicates n=130.  This is not particularly large, but large enough for the restriction of the CLT (n>30). We are led to understand the observations are independent, since each measurement is from different individuals, and those individuals are not related in any way that would influence measurements on other individuals. "
   ]
  },
  {
   "cell_type": "markdown",
   "metadata": {},
   "source": [
    "#### Question 3\n",
    "Is the true population mean really 98.6 degrees F?\n",
    "    <li> Would you use a one-sample or two-sample test? Why?\n",
    "    <li>In this situation, is it appropriate to use the $t$ or $z$ statistic?\n",
    "    <li>Now try using the other test. How is the result be different? Why?"
   ]
  },
  {
   "cell_type": "code",
   "execution_count": 51,
   "metadata": {},
   "outputs": [
    {
     "name": "stdout",
     "output_type": "stream",
     "text": [
      "The mean of the data set is 98.24923076923078.\n",
      "The median of the data set is 98.3.\n"
     ]
    }
   ],
   "source": [
    "print('The mean of the data set is ' + str(np.mean(df.temperature))+'.')\n",
    "print('The median of the data set is ' + str(np.median(df.temperature))+'.')"
   ]
  },
  {
   "cell_type": "markdown",
   "metadata": {},
   "source": [
    "The null hypothesis is that the population mean (98.6) is not different than the sample mean (96.3), given the sample data. A significant result ($p$<0.05) would reject the null, and indicate that the true population mean is not 98.6.\n",
    "\n",
    "  <li> A one-sample test should be used because we are not comparing two groups. \n",
    "  <li> Becuase the sample size is large (enough), normally distributed, and we don't know the SD, we should use a $t$ statistic."
   ]
  },
  {
   "cell_type": "code",
   "execution_count": 66,
   "metadata": {},
   "outputs": [
    {
     "data": {
      "text/plain": [
       "2.4106320415609943e-07"
      ]
     },
     "execution_count": 66,
     "metadata": {},
     "output_type": "execute_result"
    }
   ],
   "source": [
    "# Compute standard error\n",
    "std_err = df.temperature.std()/np.sqrt(n)\n",
    "# Compute T-statistic\n",
    "t_value = (mean-98.6)/std_err\n",
    "# Compute degrees of freedom\n",
    "deg_f = n-1\n",
    "# Compute the p-value associated to our test\n",
    "stats.t.sf(np.abs(t_value),deg_f)*2"
   ]
  },
  {
   "cell_type": "markdown",
   "metadata": {},
   "source": [
    "This $p$-value is <0.05, and we therefore reject the null hypothesis. We can then accept the alternative hypothesis, that the population mean is NOT 98.6, given the data.\n",
    "\n",
    "We can compare this to the $z$-test as well."
   ]
  },
  {
   "cell_type": "code",
   "execution_count": 67,
   "metadata": {},
   "outputs": [
    {
     "data": {
      "text/plain": [
       "4.9021570141133797e-08"
      ]
     },
     "execution_count": 67,
     "metadata": {},
     "output_type": "execute_result"
    }
   ],
   "source": [
    "z_value = (mean-98.6)/std_err\n",
    "# Compute p-value associated to the Z-test\n",
    "2*stats.norm.cdf(z_value)"
   ]
  },
  {
   "cell_type": "markdown",
   "metadata": {},
   "source": [
    "The $z$-test also confirms the same conclusion, that the population mean is not 98.6. The difference in $p$-values between the $z$-test (lower) and the $t$-test (higher) is expected because the Student $t$-distribution has larger tails than the normal distribution."
   ]
  },
  {
   "cell_type": "markdown",
   "metadata": {},
   "source": [
    "#### Question 4\n",
    "Draw a small sample of size 10 from the data and repeat both tests.\n",
    "    <li>Which one is the correct one to use?\n",
    "    <li>What do you notice? What does this tell you about the difference in application of the $t$ and $z$ statistic?"
   ]
  },
  {
   "cell_type": "markdown",
   "metadata": {},
   "source": [
    "A random sample of size 10 will have very small $n$, therefore a $t$ statistic would perform better."
   ]
  },
  {
   "cell_type": "code",
   "execution_count": 76,
   "metadata": {},
   "outputs": [],
   "source": [
    "small_sample = df.temperature.sample(n=10)"
   ]
  },
  {
   "cell_type": "markdown",
   "metadata": {},
   "source": [
    "<li> $t$-test"
   ]
  },
  {
   "cell_type": "code",
   "execution_count": 81,
   "metadata": {},
   "outputs": [
    {
     "name": "stdout",
     "output_type": "stream",
     "text": [
      "The mean of the small data set is 98.3\n"
     ]
    },
    {
     "data": {
      "text/plain": [
       "0.28325639573179018"
      ]
     },
     "execution_count": 81,
     "metadata": {},
     "output_type": "execute_result"
    }
   ],
   "source": [
    "mean_small = np.mean(small_sample)\n",
    "print('The mean of the small data set is ' + str(mean_small))\n",
    "std_err_small = small_sample.std()/np.sqrt(10)\n",
    "deg_f_small = 10-1\n",
    "\n",
    "#t test\n",
    "t_value_small = (mean_small-98.6)/std_err_small\n",
    "stats.t.sf(np.abs(t_value_small),deg_f_small)*2"
   ]
  },
  {
   "cell_type": "markdown",
   "metadata": {},
   "source": [
    "<li> $z$-test"
   ]
  },
  {
   "cell_type": "code",
   "execution_count": 82,
   "metadata": {},
   "outputs": [
    {
     "data": {
      "text/plain": [
       "0.25380249736669491"
      ]
     },
     "execution_count": 82,
     "metadata": {},
     "output_type": "execute_result"
    }
   ],
   "source": [
    "#z test\n",
    "z_value_small = (mean_small-98.6)/std_err_small\n",
    "2*stats.norm.cdf(z_value_small)"
   ]
  },
  {
   "cell_type": "markdown",
   "metadata": {},
   "source": [
    "The $p$-values for both tests are >0.05, indicating that we can only accept the null (i.e. the mean is not different than 98.6).  \n",
    "\n",
    "However, the $p$-value for the $z$ test is lower, meaning it is slightly less conservative."
   ]
  },
  {
   "cell_type": "markdown",
   "metadata": {},
   "source": [
    "#### Question 5\n",
    "At what temperature should we consider someone's temperature to be \"abnormal\"?\n",
    "    <li>Start by computing the margin of error and confidence interval."
   ]
  },
  {
   "cell_type": "markdown",
   "metadata": {},
   "source": [
    "An 'abnormal' temperature would be outside the confidence interval computed from the data set given."
   ]
  },
  {
   "cell_type": "code",
   "execution_count": 87,
   "metadata": {},
   "outputs": [
    {
     "data": {
      "text/plain": [
       "(98.12249318821641, 98.375968350245145)"
      ]
     },
     "execution_count": 87,
     "metadata": {},
     "output_type": "execute_result"
    }
   ],
   "source": [
    "#way 1\n",
    "std=np.std(df.temperature)\n",
    "stats.norm.interval(0.95, loc=mean, scale=std/np.sqrt(n))\n",
    "stats.t.interval(0.95, n-1, loc=mean, scale=std/np.sqrt(n))"
   ]
  },
  {
   "cell_type": "code",
   "execution_count": 92,
   "metadata": {},
   "outputs": [
    {
     "name": "stdout",
     "output_type": "stream",
     "text": [
      "1.95996398454\n",
      "130\n"
     ]
    },
    {
     "data": {
      "text/plain": [
       "(98.123682111456645, 98.37477942700491)"
      ]
     },
     "execution_count": 92,
     "metadata": {},
     "output_type": "execute_result"
    }
   ],
   "source": [
    "#is this way the same? yes\n",
    "z_crit = stats.norm.ppf(q = 0.975)\n",
    "std=np.std(df.temperature)  \n",
    "margin_of_error = z_crit * (std/np.sqrt(n))\n",
    "confidence_interval = (mean - margin_of_error, mean + margin_of_error)  \n",
    "confidence_interval"
   ]
  },
  {
   "cell_type": "markdown",
   "metadata": {},
   "source": [
    "An abnormal temperature would be below 98.1 or above 98.4."
   ]
  },
  {
   "cell_type": "markdown",
   "metadata": {},
   "source": [
    "#### Question 6\n",
    "Is there a significant difference between males and females in normal temperature?\n",
    "    <li>What test did you use and why?\n",
    "    <li>Write a story with your conclusion in the context of the original problem."
   ]
  },
  {
   "cell_type": "markdown",
   "metadata": {},
   "source": [
    "We will evaluate whether the null hypothesis that the mean for females and the mean for males are equal.  If rejected, we can conlude the population means are different.\n",
    "\n",
    "The appropriate test to use will be a two-group $t$ test, becuase we are comparing two groups and do not know the population variance."
   ]
  },
  {
   "cell_type": "code",
   "execution_count": 95,
   "metadata": {},
   "outputs": [
    {
     "name": "stdout",
     "output_type": "stream",
     "text": [
      "The mean male body temperature is 98.1046153846154\n",
      "The mean female body temperature is 98.39384615384613\n"
     ]
    }
   ],
   "source": [
    "#calculate sample statistics\n",
    "mean_male = df.temperature[df.gender=='M'].mean()\n",
    "mean_female = df.temperature[df.gender=='F'].mean()\n",
    "print('The mean male body temperature is ' + str(mean_male))\n",
    "print('The mean female body temperature is ' + str(mean_female))\n",
    "\n",
    "std_male = np.std(df.temperature[df.gender=='M'])\n",
    "std_female = np.std(df.temperature[df.gender=='F'])"
   ]
  },
  {
   "cell_type": "code",
   "execution_count": 94,
   "metadata": {},
   "outputs": [
    {
     "data": {
      "text/plain": [
       "Ttest_indResult(statistic=-2.2854345381656112, pvalue=0.023938264182934196)"
      ]
     },
     "execution_count": 94,
     "metadata": {},
     "output_type": "execute_result"
    }
   ],
   "source": [
    "stats.ttest_ind(df.temperature[df.gender=='M'],df.temperature[df.gender=='F'],equal_var=False)"
   ]
  },
  {
   "cell_type": "markdown",
   "metadata": {},
   "source": [
    "This $p$-value indicates we can reject the null hypothesis that the means are equal for each gender. Instead, we can conclude that male and female groups have different mean body temperature.\n",
    "\n",
    "Although the original study by Wunderlich (1868) reports one single value for the mean body temperature of the human population, we have found, given the data, this mean is incorrect, and that females and males actually have statistically different mean body temperatures.  It should also be noted that while these groups are different, the difference is only 0.3 degrees F, which may not be that important in a diagnostic setting."
   ]
  }
 ],
 "metadata": {
  "kernelspec": {
   "display_name": "Python 3",
   "language": "python",
   "name": "python3"
  },
  "language_info": {
   "codemirror_mode": {
    "name": "ipython",
    "version": 3
   },
   "file_extension": ".py",
   "mimetype": "text/x-python",
   "name": "python",
   "nbconvert_exporter": "python",
   "pygments_lexer": "ipython3",
   "version": "3.6.1"
  }
 },
 "nbformat": 4,
 "nbformat_minor": 1
}
